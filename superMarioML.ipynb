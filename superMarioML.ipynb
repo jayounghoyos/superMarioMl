{
 "cells": [
  {
   "cell_type": "code",
   "execution_count": null,
   "id": "380a243b-34dd-4adc-8f20-dca7e8c9cbf0",
   "metadata": {},
   "outputs": [],
   "source": [
    "!pip install gym_super_mario_bros==7.3.0 nes_py\n",
    "!pip uninstall gym -y\n",
    "!pip install gym==0.25.2"
   ]
  },
  {
   "cell_type": "code",
   "execution_count": null,
   "id": "fc36792e-6647-478e-ac00-a9c4268fd7d7",
   "metadata": {},
   "outputs": [],
   "source": [
    "from nes_py.wrappers import JoypadSpace\n",
    "import gym_super_mario_bros\n",
    "from gym_super_mario_bros.actions import SIMPLE_MOVEMENT"
   ]
  },
  {
   "cell_type": "code",
   "execution_count": null,
   "id": "897902d3-b051-44dd-b4d8-768f4f274c4b",
   "metadata": {},
   "outputs": [],
   "source": [
    "env = gym_super_mario_bros.make('SuperMarioBros-v0')\n",
    "env = JoypadSpace(env, SIMPLE_MOVEMENT)"
   ]
  },
  {
   "cell_type": "code",
   "execution_count": null,
   "id": "b439e174-04e4-4fbc-8a23-5a432314d08c",
   "metadata": {},
   "outputs": [],
   "source": [
    "env.action_space"
   ]
  },
  {
   "cell_type": "code",
   "execution_count": null,
   "id": "d244a766-5e79-4f07-ae82-df572b5162d8",
   "metadata": {},
   "outputs": [],
   "source": [
    "SIMPLE_MOVEMENT[env.action_space.sample()]"
   ]
  },
  {
   "cell_type": "code",
   "execution_count": null,
   "id": "90a15b64-83cd-4451-a8b9-961970a12064",
   "metadata": {},
   "outputs": [],
   "source": [
    "done = True\n",
    "for step in range(5000):\n",
    "    if done:\n",
    "        state = env.reset()\n",
    "    state, reward, done, info = env.step(env.action_space.sample())\n",
    "    env.render()\n",
    "\n",
    "env.close()"
   ]
  },
  {
   "cell_type": "code",
   "execution_count": null,
   "id": "34d5b2bb-8ac2-414a-bf06-6b49ac2055e8",
   "metadata": {},
   "outputs": [],
   "source": []
  }
 ],
 "metadata": {
  "kernelspec": {
   "display_name": "Python 3 (ipykernel)",
   "language": "python",
   "name": "python3"
  },
  "language_info": {
   "codemirror_mode": {
    "name": "ipython",
    "version": 3
   },
   "file_extension": ".py",
   "mimetype": "text/x-python",
   "name": "python",
   "nbconvert_exporter": "python",
   "pygments_lexer": "ipython3",
   "version": "3.12.7"
  }
 },
 "nbformat": 4,
 "nbformat_minor": 5
}
